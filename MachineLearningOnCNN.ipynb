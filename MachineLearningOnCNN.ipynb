{
 "cells": [
  {
   "cell_type": "code",
   "execution_count": 1,
   "id": "6388d271",
   "metadata": {},
   "outputs": [],
   "source": [
    "from torch.utils.data.dataloader import DataLoader\n",
    "\n",
    "import torchvision\n",
    "from torchvision import transforms\n",
    "from torchvision.datasets import ImageFolder\n",
    "\n",
    "import torchsummary\n",
    "\n",
    "from utils import extract_features"
   ]
  },
  {
   "cell_type": "code",
   "execution_count": 2,
   "id": "47bf5648",
   "metadata": {},
   "outputs": [],
   "source": [
    "train_dir = './train_another'\n",
    "validation_dir = './validation_another'\n",
    "test_dir = './test_another'\n",
    "\n",
    "train = ImageFolder(train_dir,transform = transforms.Compose([\n",
    "    transforms.Resize((150,150)),transforms.ToTensor()\n",
    "]))\n",
    "\n",
    "validation = ImageFolder(validation_dir,transform = transforms.Compose([\n",
    "    transforms.Resize((150,150)),transforms.ToTensor()\n",
    "]))\n",
    "\n",
    "trainLoader = DataLoader(train, 20, shuffle = True, num_workers = 4, pin_memory = True)\n",
    "validationLoader = DataLoader(validation, 20, shuffle = True, num_workers = 4, pin_memory = True)"
   ]
  },
  {
   "cell_type": "code",
   "execution_count": 3,
   "id": "6fe99daa",
   "metadata": {},
   "outputs": [
    {
     "name": "stderr",
     "output_type": "stream",
     "text": [
      "C:\\Users\\Asus\\anaconda3\\lib\\site-packages\\torchvision\\models\\_utils.py:208: UserWarning: The parameter 'pretrained' is deprecated since 0.13 and may be removed in the future, please use 'weights' instead.\n",
      "  warnings.warn(\n",
      "C:\\Users\\Asus\\anaconda3\\lib\\site-packages\\torchvision\\models\\_utils.py:223: UserWarning: Arguments other than a weight enum or `None` for 'weights' are deprecated since 0.13 and may be removed in the future. The current behavior is equivalent to passing `weights=ResNet18_Weights.IMAGENET1K_V1`. You can also use `weights=ResNet18_Weights.DEFAULT` to get the most up-to-date weights.\n",
      "  warnings.warn(msg)\n"
     ]
    },
    {
     "name": "stdout",
     "output_type": "stream",
     "text": [
      "----------------------------------------------------------------\n",
      "        Layer (type)               Output Shape         Param #\n",
      "================================================================\n",
      "            Conv2d-1           [-1, 64, 75, 75]           9,408\n",
      "       BatchNorm2d-2           [-1, 64, 75, 75]             128\n",
      "              ReLU-3           [-1, 64, 75, 75]               0\n",
      "         MaxPool2d-4           [-1, 64, 38, 38]               0\n",
      "            Conv2d-5           [-1, 64, 38, 38]          36,864\n",
      "       BatchNorm2d-6           [-1, 64, 38, 38]             128\n",
      "              ReLU-7           [-1, 64, 38, 38]               0\n",
      "            Conv2d-8           [-1, 64, 38, 38]          36,864\n",
      "       BatchNorm2d-9           [-1, 64, 38, 38]             128\n",
      "             ReLU-10           [-1, 64, 38, 38]               0\n",
      "       BasicBlock-11           [-1, 64, 38, 38]               0\n",
      "           Conv2d-12           [-1, 64, 38, 38]          36,864\n",
      "      BatchNorm2d-13           [-1, 64, 38, 38]             128\n",
      "             ReLU-14           [-1, 64, 38, 38]               0\n",
      "           Conv2d-15           [-1, 64, 38, 38]          36,864\n",
      "      BatchNorm2d-16           [-1, 64, 38, 38]             128\n",
      "             ReLU-17           [-1, 64, 38, 38]               0\n",
      "       BasicBlock-18           [-1, 64, 38, 38]               0\n",
      "           Conv2d-19          [-1, 128, 19, 19]          73,728\n",
      "      BatchNorm2d-20          [-1, 128, 19, 19]             256\n",
      "             ReLU-21          [-1, 128, 19, 19]               0\n",
      "           Conv2d-22          [-1, 128, 19, 19]         147,456\n",
      "      BatchNorm2d-23          [-1, 128, 19, 19]             256\n",
      "           Conv2d-24          [-1, 128, 19, 19]           8,192\n",
      "      BatchNorm2d-25          [-1, 128, 19, 19]             256\n",
      "             ReLU-26          [-1, 128, 19, 19]               0\n",
      "       BasicBlock-27          [-1, 128, 19, 19]               0\n",
      "           Conv2d-28          [-1, 128, 19, 19]         147,456\n",
      "      BatchNorm2d-29          [-1, 128, 19, 19]             256\n",
      "             ReLU-30          [-1, 128, 19, 19]               0\n",
      "           Conv2d-31          [-1, 128, 19, 19]         147,456\n",
      "      BatchNorm2d-32          [-1, 128, 19, 19]             256\n",
      "             ReLU-33          [-1, 128, 19, 19]               0\n",
      "       BasicBlock-34          [-1, 128, 19, 19]               0\n",
      "           Conv2d-35          [-1, 256, 10, 10]         294,912\n",
      "      BatchNorm2d-36          [-1, 256, 10, 10]             512\n",
      "             ReLU-37          [-1, 256, 10, 10]               0\n",
      "           Conv2d-38          [-1, 256, 10, 10]         589,824\n",
      "      BatchNorm2d-39          [-1, 256, 10, 10]             512\n",
      "           Conv2d-40          [-1, 256, 10, 10]          32,768\n",
      "      BatchNorm2d-41          [-1, 256, 10, 10]             512\n",
      "             ReLU-42          [-1, 256, 10, 10]               0\n",
      "       BasicBlock-43          [-1, 256, 10, 10]               0\n",
      "           Conv2d-44          [-1, 256, 10, 10]         589,824\n",
      "      BatchNorm2d-45          [-1, 256, 10, 10]             512\n",
      "             ReLU-46          [-1, 256, 10, 10]               0\n",
      "           Conv2d-47          [-1, 256, 10, 10]         589,824\n",
      "      BatchNorm2d-48          [-1, 256, 10, 10]             512\n",
      "             ReLU-49          [-1, 256, 10, 10]               0\n",
      "       BasicBlock-50          [-1, 256, 10, 10]               0\n",
      "           Conv2d-51            [-1, 512, 5, 5]       1,179,648\n",
      "      BatchNorm2d-52            [-1, 512, 5, 5]           1,024\n",
      "             ReLU-53            [-1, 512, 5, 5]               0\n",
      "           Conv2d-54            [-1, 512, 5, 5]       2,359,296\n",
      "      BatchNorm2d-55            [-1, 512, 5, 5]           1,024\n",
      "           Conv2d-56            [-1, 512, 5, 5]         131,072\n",
      "      BatchNorm2d-57            [-1, 512, 5, 5]           1,024\n",
      "             ReLU-58            [-1, 512, 5, 5]               0\n",
      "       BasicBlock-59            [-1, 512, 5, 5]               0\n",
      "           Conv2d-60            [-1, 512, 5, 5]       2,359,296\n",
      "      BatchNorm2d-61            [-1, 512, 5, 5]           1,024\n",
      "             ReLU-62            [-1, 512, 5, 5]               0\n",
      "           Conv2d-63            [-1, 512, 5, 5]       2,359,296\n",
      "      BatchNorm2d-64            [-1, 512, 5, 5]           1,024\n",
      "             ReLU-65            [-1, 512, 5, 5]               0\n",
      "       BasicBlock-66            [-1, 512, 5, 5]               0\n",
      "AdaptiveAvgPool2d-67            [-1, 512, 1, 1]               0\n",
      "           Linear-68                 [-1, 1000]         513,000\n",
      "================================================================\n",
      "Total params: 11,689,512\n",
      "Trainable params: 11,689,512\n",
      "Non-trainable params: 0\n",
      "----------------------------------------------------------------\n",
      "Input size (MB): 0.26\n",
      "Forward/backward pass size (MB): 29.16\n",
      "Params size (MB): 44.59\n",
      "Estimated Total Size (MB): 74.01\n",
      "----------------------------------------------------------------\n"
     ]
    }
   ],
   "source": [
    "# ---- Importation d'un modèle ----\n",
    "model = torchvision.models.resnet18(pretrained=True)\n",
    "torchsummary.summary(model, (3,150,150))\n",
    "#On récupère le nombre output du modèle"
   ]
  },
  {
   "cell_type": "code",
   "execution_count": 4,
   "id": "06abc70f",
   "metadata": {},
   "outputs": [
    {
     "data": {
      "text/plain": [
       "array([1., 0., 0., ..., 0., 1., 0.])"
      ]
     },
     "execution_count": 4,
     "metadata": {},
     "output_type": "execute_result"
    }
   ],
   "source": [
    "# ---- Extraction des features ----\n",
    "train_features, train_labels = extract_features(trainLoader, model, 10000, 1000)\n",
    "test_features, test_labels = extract_features(validationLoader, model, 2000, 1000)\n",
    "\n",
    "#Taille (Normalement n_sample, n_features)\n",
    "train_features.shape\n",
    "\n",
    "#Classes\n",
    "train_labels"
   ]
  },
  {
   "cell_type": "code",
   "execution_count": 5,
   "id": "f4191517",
   "metadata": {},
   "outputs": [
    {
     "data": {
      "text/plain": [
       "0.9135"
      ]
     },
     "execution_count": 5,
     "metadata": {},
     "output_type": "execute_result"
    }
   ],
   "source": [
    "# ---- Entrainement d'un modèle XGB a partir des features de sortie du modèle resnet18 ----\n",
    "from sklearn.metrics import accuracy_score\n",
    "\n",
    "from xgboost import XGBClassifier\n",
    "classifier = XGBClassifier()\n",
    "classifier.fit(train_features, train_labels)\n",
    "y_pred = classifier.predict(test_features)\n",
    "accuracy_score(test_labels, y_pred)"
   ]
  },
  {
   "cell_type": "code",
   "execution_count": 6,
   "id": "0cf5c460",
   "metadata": {},
   "outputs": [
    {
     "data": {
      "text/plain": [
       "0.8875"
      ]
     },
     "execution_count": 6,
     "metadata": {},
     "output_type": "execute_result"
    }
   ],
   "source": [
    "# ---- Random forest ----\n",
    "from sklearn.ensemble import RandomForestClassifier\n",
    "\n",
    "classifier = RandomForestClassifier()\n",
    "classifier.fit(train_features, train_labels)\n",
    "y_pred = classifier.predict(test_features)\n",
    "accuracy_score(test_labels, y_pred)"
   ]
  },
  {
   "cell_type": "code",
   "execution_count": 7,
   "id": "49755193",
   "metadata": {},
   "outputs": [
    {
     "data": {
      "text/plain": [
       "0.914"
      ]
     },
     "execution_count": 7,
     "metadata": {},
     "output_type": "execute_result"
    }
   ],
   "source": [
    "# ---- LightGBM ----\n",
    "import lightgbm as lgb\n",
    "classifier = lgb.LGBMClassifier()\n",
    "classifier.fit(train_features, train_labels)\n",
    "y_pred = classifier.predict(test_features)\n",
    "accuracy_score(test_labels, y_pred)"
   ]
  }
 ],
 "metadata": {
  "kernelspec": {
   "display_name": "Python 3 (ipykernel)",
   "language": "python",
   "name": "python3"
  },
  "language_info": {
   "codemirror_mode": {
    "name": "ipython",
    "version": 3
   },
   "file_extension": ".py",
   "mimetype": "text/x-python",
   "name": "python",
   "nbconvert_exporter": "python",
   "pygments_lexer": "ipython3",
   "version": "3.9.13"
  }
 },
 "nbformat": 4,
 "nbformat_minor": 5
}
